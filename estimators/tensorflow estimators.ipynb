{
 "cells": [
  {
   "cell_type": "markdown",
   "metadata": {},
   "source": [
    "### Import/Load Data"
   ]
  },
  {
   "cell_type": "code",
   "execution_count": null,
   "metadata": {},
   "outputs": [],
   "source": [
    "import tensorflow as tf\n",
    "import numpy as np\n",
    "from tensorflow.contrib.learn.python.learn.datasets import base\n",
    "\n",
    "\n",
    "# Load dataset\n",
    "training_data = \"iris_training.csv\"\n",
    "testing_data = \"iris_test.csv\"\n",
    "training_set = base.load_csv_with_header(filename=training_data,\n",
    "                                         features_dtype=np.float32, \n",
    "                                         target_dtype=np.int)\n",
    "test_set = base.load_csv_with_header(filename=testing_data,\n",
    "                                     features_dtype=np.float32,\n",
    "                                     target_dtype=np.int)"
   ]
  },
  {
   "cell_type": "code",
   "execution_count": null,
   "metadata": {},
   "outputs": [],
   "source": [
    "feature_name = \"iris_features\"\n",
    "feature_columns = [tf.feature_column.numeric_column(feature_name, shape=[4])]"
   ]
  },
  {
   "cell_type": "markdown",
   "metadata": {},
   "source": [
    "### Input Function"
   ]
  },
  {
   "cell_type": "code",
   "execution_count": null,
   "metadata": {},
   "outputs": [],
   "source": [
    "def input_fn(data):\n",
    "    def _fn():\n",
    "        features = {feature_name: tf.constant(data.data)}\n",
    "        label = tf.constant(data.target)\n",
    "        return features, label\n",
    "    return _fn"
   ]
  },
  {
   "cell_type": "markdown",
   "metadata": {},
   "source": [
    "### Training w/ Linear Estimator"
   ]
  },
  {
   "cell_type": "code",
   "execution_count": null,
   "metadata": {},
   "outputs": [],
   "source": [
    "classifier = tf.estimator.LinearClassifier(\n",
    "    feature_columns=feature_columns,\n",
    "    n_classes=3,\n",
    "    model_dir=\"tmp/iris\")\n",
    "\n",
    "classifier.train(input_fn=input_fn(training_set),\n",
    "               steps=100)\n",
    "\n",
    "accuracy_score = classifier.evaluate(input_fn=input_fn(test_set), \n",
    "                                     steps=50)[\"accuracy\"]\n",
    "print('\\n\\n Accuracy: {0:f}'.format(accuracy_score))"
   ]
  },
  {
   "cell_type": "markdown",
   "metadata": {},
   "source": [
    "### Training w/ DNN Estimator"
   ]
  },
  {
   "cell_type": "code",
   "execution_count": null,
   "metadata": {},
   "outputs": [],
   "source": [
    "nn_classifier = tf.estimator.DNNClassifier(\n",
    "    feature_columns=feature_columns,\n",
    "    hidden_units=[64, 12, 4],\n",
    "    activation_fn=tf.nn.relu,\n",
    "    dropout=0.4,\n",
    "    n_classes=4,\n",
    "    optimizer=\"Adam\",    \n",
    "    model_dir=\"tmp/irisnn\")\n",
    "\n",
    "nn_classifier.train(input_fn=input_fn(training_set),\n",
    "               steps=1000)\n",
    "\n",
    "accuracy_score = nn_classifier.evaluate(input_fn=input_fn(test_set), \n",
    "                                     steps=1000)[\"accuracy\"]\n",
    "print('\\n\\n Accuracy: {0:f}'.format(accuracy_score))"
   ]
  },
  {
   "cell_type": "markdown",
   "metadata": {},
   "source": [
    "### Serving function"
   ]
  },
  {
   "cell_type": "code",
   "execution_count": null,
   "metadata": {},
   "outputs": [],
   "source": [
    "feature_spec = {'iris_features': \n",
    "                tf.FixedLenFeature(shape=[4], dtype=np.float32)}\n",
    "serving_fn = tf.estimator.export.build_parsing_serving_input_receiver_fn(feature_spec)"
   ]
  },
  {
   "cell_type": "markdown",
   "metadata": {},
   "source": [
    "### Export Model for Prediction"
   ]
  },
  {
   "cell_type": "code",
   "execution_count": null,
   "metadata": {},
   "outputs": [],
   "source": [
    "feature_spec = {'iris_features': tf.FixedLenFeature(shape=[4], dtype=np.float32)}\n",
    "serving_fn = tf.estimator.export.build_parsing_serving_input_receiver_fn(feature_spec)\n",
    "\n",
    "classifier.export_savedmodel(export_dir_base='tmp/irisnn/export', \n",
    "                            serving_input_receiver_fn=serving_fn)"
   ]
  },
  {
   "cell_type": "code",
   "execution_count": null,
   "metadata": {},
   "outputs": [],
   "source": []
  }
 ],
 "metadata": {
  "kernelspec": {
   "display_name": "Python 3",
   "language": "python",
   "name": "python3"
  },
  "language_info": {
   "codemirror_mode": {
    "name": "ipython",
    "version": 3
   },
   "file_extension": ".py",
   "mimetype": "text/x-python",
   "name": "python",
   "nbconvert_exporter": "python",
   "pygments_lexer": "ipython3",
   "version": "3.6.4"
  }
 },
 "nbformat": 4,
 "nbformat_minor": 2
}
