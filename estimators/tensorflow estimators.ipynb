{
 "cells": [
  {
   "cell_type": "markdown",
   "metadata": {},
   "source": [
    "### Import/Load Data"
   ]
  },
  {
   "cell_type": "code",
   "execution_count": 1,
   "metadata": {},
   "outputs": [],
   "source": [
    "import tensorflow as tf\n",
    "import numpy as np\n",
    "from tensorflow.contrib.learn.python.learn.datasets import base\n",
    "\n",
    "\n",
    "# Load dataset\n",
    "training_data = \"iris_training.csv\"\n",
    "testing_data = \"iris_test.csv\"\n",
    "training_set = base.load_csv_with_header(filename=training_data,\n",
    "                                         features_dtype=np.float32, \n",
    "                                         target_dtype=np.int)\n",
    "test_set = base.load_csv_with_header(filename=testing_data,\n",
    "                                     features_dtype=np.float32,\n",
    "                                     target_dtype=np.int)"
   ]
  },
  {
   "cell_type": "code",
   "execution_count": 2,
   "metadata": {},
   "outputs": [],
   "source": [
    "feature_name = \"iris_features\"\n",
    "feature_columns = [tf.feature_column.numeric_column(feature_name, shape=[4])]"
   ]
  },
  {
   "cell_type": "markdown",
   "metadata": {},
   "source": [
    "### Input Function"
   ]
  },
  {
   "cell_type": "code",
   "execution_count": 3,
   "metadata": {},
   "outputs": [],
   "source": [
    "def input_fn(data):\n",
    "    def _fn():\n",
    "        features = {feature_name: tf.constant(data.data)}\n",
    "        label = tf.constant(data.target)\n",
    "        return features, label\n",
    "    return _fn"
   ]
  },
  {
   "cell_type": "markdown",
   "metadata": {},
   "source": [
    "### Training w/ Linear Estimator"
   ]
  },
  {
   "cell_type": "code",
   "execution_count": 4,
   "metadata": {},
   "outputs": [
    {
     "name": "stdout",
     "output_type": "stream",
     "text": [
      "INFO:tensorflow:Using default config.\n",
      "INFO:tensorflow:Using config: {'_model_dir': 'tmp/iris', '_tf_random_seed': None, '_save_summary_steps': 100, '_save_checkpoints_steps': None, '_save_checkpoints_secs': 600, '_session_config': None, '_keep_checkpoint_max': 5, '_keep_checkpoint_every_n_hours': 10000, '_log_step_count_steps': 100, '_service': None, '_cluster_spec': <tensorflow.python.training.server_lib.ClusterSpec object at 0x11b17f710>, '_task_type': 'worker', '_task_id': 0, '_master': '', '_evaluation_master': '', '_is_chief': True, '_num_ps_replicas': 0, '_num_worker_replicas': 1}\n",
      "INFO:tensorflow:Create CheckpointSaverHook.\n",
      "INFO:tensorflow:Saving checkpoints for 1 into tmp/iris/model.ckpt.\n",
      "INFO:tensorflow:loss = 131.833, step = 1\n",
      "INFO:tensorflow:Saving checkpoints for 100 into tmp/iris/model.ckpt.\n",
      "INFO:tensorflow:Loss for final step: 37.2778.\n",
      "INFO:tensorflow:Starting evaluation at 2018-01-08-00:22:32\n",
      "INFO:tensorflow:Restoring parameters from tmp/iris/model.ckpt-100\n",
      "INFO:tensorflow:Evaluation [5/50]\n",
      "INFO:tensorflow:Evaluation [10/50]\n",
      "INFO:tensorflow:Evaluation [15/50]\n",
      "INFO:tensorflow:Evaluation [20/50]\n",
      "INFO:tensorflow:Evaluation [25/50]\n",
      "INFO:tensorflow:Evaluation [30/50]\n",
      "INFO:tensorflow:Evaluation [35/50]\n",
      "INFO:tensorflow:Evaluation [40/50]\n",
      "INFO:tensorflow:Evaluation [45/50]\n",
      "INFO:tensorflow:Evaluation [50/50]\n",
      "INFO:tensorflow:Finished evaluation at 2018-01-08-00:22:32\n",
      "INFO:tensorflow:Saving dict for global step 100: accuracy = 0.933333, average_loss = 0.371759, global_step = 100, loss = 11.1528\n",
      "\n",
      "\n",
      " Accuracy: 0.933333\n"
     ]
    }
   ],
   "source": [
    "classifier = tf.estimator.LinearClassifier(\n",
    "    feature_columns=feature_columns,\n",
    "    n_classes=3,\n",
    "    model_dir=\"tmp/iris\")\n",
    "\n",
    "classifier.train(input_fn=input_fn(training_set),\n",
    "               steps=100)\n",
    "\n",
    "accuracy_score = classifier.evaluate(input_fn=input_fn(test_set), \n",
    "                                     steps=50)[\"accuracy\"]\n",
    "print('\\n\\n Accuracy: {0:f}'.format(accuracy_score))"
   ]
  },
  {
   "cell_type": "markdown",
   "metadata": {},
   "source": [
    "### Training w/ DNN Estimator"
   ]
  },
  {
   "cell_type": "code",
   "execution_count": 15,
   "metadata": {},
   "outputs": [
    {
     "name": "stdout",
     "output_type": "stream",
     "text": [
      "INFO:tensorflow:Using default config.\n",
      "INFO:tensorflow:Using config: {'_model_dir': 'tmp/irisnn', '_tf_random_seed': None, '_save_summary_steps': 100, '_save_checkpoints_steps': None, '_save_checkpoints_secs': 600, '_session_config': None, '_keep_checkpoint_max': 5, '_keep_checkpoint_every_n_hours': 10000, '_log_step_count_steps': 100, '_service': None, '_cluster_spec': <tensorflow.python.training.server_lib.ClusterSpec object at 0x11b4af2e8>, '_task_type': 'worker', '_task_id': 0, '_master': '', '_evaluation_master': '', '_is_chief': True, '_num_ps_replicas': 0, '_num_worker_replicas': 1}\n",
      "INFO:tensorflow:Create CheckpointSaverHook.\n",
      "INFO:tensorflow:Restoring parameters from tmp/irisnn/model.ckpt-1000\n",
      "INFO:tensorflow:Saving checkpoints for 1001 into tmp/irisnn/model.ckpt.\n",
      "INFO:tensorflow:loss = 82.8534, step = 1001\n",
      "INFO:tensorflow:global_step/sec: 656.551\n",
      "INFO:tensorflow:loss = 69.4105, step = 1101 (0.153 sec)\n",
      "INFO:tensorflow:global_step/sec: 1037.65\n",
      "INFO:tensorflow:loss = 72.6455, step = 1201 (0.097 sec)\n",
      "INFO:tensorflow:global_step/sec: 1149.29\n",
      "INFO:tensorflow:loss = 68.3506, step = 1301 (0.087 sec)\n",
      "INFO:tensorflow:global_step/sec: 993.584\n",
      "INFO:tensorflow:loss = 74.2114, step = 1401 (0.100 sec)\n",
      "INFO:tensorflow:global_step/sec: 1044.58\n",
      "INFO:tensorflow:loss = 82.7643, step = 1501 (0.096 sec)\n",
      "INFO:tensorflow:global_step/sec: 1231.54\n",
      "INFO:tensorflow:loss = 66.8003, step = 1601 (0.081 sec)\n",
      "INFO:tensorflow:global_step/sec: 1127.18\n",
      "INFO:tensorflow:loss = 64.248, step = 1701 (0.089 sec)\n",
      "INFO:tensorflow:global_step/sec: 1140.25\n",
      "INFO:tensorflow:loss = 72.1134, step = 1801 (0.089 sec)\n",
      "INFO:tensorflow:global_step/sec: 1055.73\n",
      "INFO:tensorflow:loss = 75.4869, step = 1901 (0.093 sec)\n",
      "INFO:tensorflow:Saving checkpoints for 2000 into tmp/irisnn/model.ckpt.\n",
      "INFO:tensorflow:Loss for final step: 77.5178.\n",
      "INFO:tensorflow:Starting evaluation at 2018-01-08-00:24:24\n",
      "INFO:tensorflow:Restoring parameters from tmp/irisnn/model.ckpt-2000\n",
      "INFO:tensorflow:Evaluation [100/1000]\n",
      "INFO:tensorflow:Evaluation [200/1000]\n",
      "INFO:tensorflow:Evaluation [300/1000]\n",
      "INFO:tensorflow:Evaluation [400/1000]\n",
      "INFO:tensorflow:Evaluation [500/1000]\n",
      "INFO:tensorflow:Evaluation [600/1000]\n",
      "INFO:tensorflow:Evaluation [700/1000]\n",
      "INFO:tensorflow:Evaluation [800/1000]\n",
      "INFO:tensorflow:Evaluation [900/1000]\n",
      "INFO:tensorflow:Evaluation [1000/1000]\n",
      "INFO:tensorflow:Finished evaluation at 2018-01-08-00:24:25\n",
      "INFO:tensorflow:Saving dict for global step 2000: accuracy = 0.966667, average_loss = 0.388636, global_step = 2000, loss = 11.6591\n",
      "\n",
      "\n",
      " Accuracy: 0.966667\n"
     ]
    }
   ],
   "source": [
    "nn_classifier = tf.estimator.DNNClassifier(\n",
    "    feature_columns=feature_columns,\n",
    "    hidden_units=[64, 12, 4],\n",
    "    activation_fn=tf.nn.relu,\n",
    "    dropout=0.4,\n",
    "    n_classes=4,\n",
    "    optimizer=\"Adam\",    \n",
    "    model_dir=\"tmp/irisnn\")\n",
    "\n",
    "nn_classifier.train(input_fn=input_fn(training_set),\n",
    "               steps=1000)\n",
    "\n",
    "accuracy_score = nn_classifier.evaluate(input_fn=input_fn(test_set), \n",
    "                                     steps=1000)[\"accuracy\"]\n",
    "print('\\n\\n Accuracy: {0:f}'.format(accuracy_score))"
   ]
  },
  {
   "cell_type": "markdown",
   "metadata": {},
   "source": [
    "### Serving function"
   ]
  },
  {
   "cell_type": "code",
   "execution_count": 6,
   "metadata": {},
   "outputs": [],
   "source": [
    "feature_spec = {'iris_features': \n",
    "                tf.FixedLenFeature(shape=[4], dtype=np.float32)}\n",
    "serving_fn = tf.estimator.export.build_parsing_serving_input_receiver_fn(feature_spec)"
   ]
  },
  {
   "cell_type": "markdown",
   "metadata": {},
   "source": [
    "### Export Model for Prediction"
   ]
  },
  {
   "cell_type": "code",
   "execution_count": 7,
   "metadata": {},
   "outputs": [
    {
     "name": "stdout",
     "output_type": "stream",
     "text": [
      "INFO:tensorflow:Signatures INCLUDED in export for Classify: ['serving_default', 'classification']\n",
      "INFO:tensorflow:Signatures INCLUDED in export for Regress: None\n",
      "INFO:tensorflow:Signatures INCLUDED in export for Predict: ['predict']\n",
      "INFO:tensorflow:Restoring parameters from tmp/iris/model.ckpt-100\n",
      "INFO:tensorflow:Assets added to graph.\n",
      "INFO:tensorflow:No assets to write.\n",
      "INFO:tensorflow:SavedModel written to: b\"/tmp/irisnn/export/temp-b'1515370959'/saved_model.pb\"\n"
     ]
    },
    {
     "data": {
      "text/plain": [
       "b'/tmp/irisnn/export/1515370959'"
      ]
     },
     "execution_count": 7,
     "metadata": {},
     "output_type": "execute_result"
    }
   ],
   "source": [
    "feature_spec = {'iris_features': tf.FixedLenFeature(shape=[4], dtype=np.float32)}\n",
    "serving_fn = tf.estimator.export.build_parsing_serving_input_receiver_fn(feature_spec)\n",
    "\n",
    "classifier.export_savedmodel(export_dir_base='/tmp/irisnn/export', \n",
    "                            serving_input_receiver_fn=serving_fn)"
   ]
  }
 ],
 "metadata": {
  "kernelspec": {
   "display_name": "Python 3",
   "language": "python",
   "name": "python3"
  },
  "language_info": {
   "codemirror_mode": {
    "name": "ipython",
    "version": 3
   },
   "file_extension": ".py",
   "mimetype": "text/x-python",
   "name": "python",
   "nbconvert_exporter": "python",
   "pygments_lexer": "ipython3",
   "version": "3.6.4"
  }
 },
 "nbformat": 4,
 "nbformat_minor": 2
}
